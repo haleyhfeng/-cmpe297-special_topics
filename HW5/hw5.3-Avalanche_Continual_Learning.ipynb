{
  "nbformat": 4,
  "nbformat_minor": 0,
  "metadata": {
    "colab": {
      "name": "hw5.3-Avalanche_Continual_Learning.ipynb",
      "provenance": [],
      "collapsed_sections": []
    },
    "kernelspec": {
      "name": "python3",
      "display_name": "Python 3"
    },
    "language_info": {
      "name": "python"
    },
    "accelerator": "GPU"
  },
  "cells": [
    {
      "cell_type": "markdown",
      "metadata": {
        "id": "a68gOb438hKU"
      },
      "source": [
        "Task: Do a hello world continual learning model with omniglot data set using the  avalanche continual learning framework \n",
        "\n",
        "- Reference: https://avalanche.continualai.org/from-zero-to-hero-tutorial/02_models "
      ]
    },
    {
      "cell_type": "code",
      "metadata": {
        "id": "GjojVVBJwV1S"
      },
      "source": [
        "#!pip install git+https://github.com/ContinualAI/avalanche.git"
      ],
      "execution_count": null,
      "outputs": []
    },
    {
      "cell_type": "code",
      "metadata": {
        "id": "wiiRWYO-wb1b"
      },
      "source": [
        "import numpy as np\n",
        "import matplotlib.pyplot as plt\n",
        "import random\n",
        "\n",
        "import torch\n",
        "from torch.nn import CrossEntropyLoss\n",
        "from torch.optim import SGD\n",
        "import torchvision\n",
        "\n",
        "from avalanche.models import SimpleMLP\n",
        "from avalanche.training.strategies import Naive\n",
        "from avalanche.benchmarks.generators import nc_benchmark, ni_benchmark\n",
        "from avalanche.evaluation.metrics import forgetting_metrics, accuracy_metrics, \\\n",
        "    loss_metrics, timing_metrics, cpu_usage_metrics, confusion_matrix_metrics, disk_usage_metrics\n",
        "from avalanche.logging import InteractiveLogger, TextLogger, TensorboardLogger\n",
        "from avalanche.training.plugins import EvaluationPlugin\n",
        "\n",
        "from torch.utils.data import DataLoader\n",
        "from avalanche.benchmarks.datasets import Omniglot\n",
        "from torchvision import datasets, transforms"
      ],
      "execution_count": 80,
      "outputs": []
    },
    {
      "cell_type": "markdown",
      "metadata": {
        "id": "WVJYljyzyTqB"
      },
      "source": [
        "## Load Dataset\n",
        "The Omniglot dataset contains 1623 (964 when load from pytorch) different handwritten characters from 50 different alphabets"
      ]
    },
    {
      "cell_type": "code",
      "metadata": {
        "colab": {
          "base_uri": "https://localhost:8080/"
        },
        "id": "vUeFQsdLgt8b",
        "outputId": "92bd2c28-1de7-4984-fcc6-fd086152aca9"
      },
      "source": [
        "img_transform = transforms.Compose([\n",
        "    transforms.Resize((28,28)),\n",
        "    transforms.ToTensor(),\n",
        "    transforms.Normalize((0.5,), (0.5,))\n",
        "])\n",
        "\n",
        "train_omni = Omniglot('./data/omniglot', train=True, download=True, transform = img_transform)\n",
        "test_omni = Omniglot('./data/omniglot', train=False, download=True, transform = img_transform)"
      ],
      "execution_count": 96,
      "outputs": [
        {
          "output_type": "stream",
          "name": "stdout",
          "text": [
            "Files already downloaded and verified\n",
            "Files already downloaded and verified\n"
          ]
        }
      ]
    },
    {
      "cell_type": "code",
      "metadata": {
        "id": "RSKYou0Q8lr5"
      },
      "source": [
        "# create a new benchmark\n",
        "scenario = ni_benchmark(\n",
        "    train_omni, test_omni, n_experiences=5, shuffle=True, seed=1234,\n",
        "    balance_experiences=True\n",
        ")"
      ],
      "execution_count": 97,
      "outputs": []
    },
    {
      "cell_type": "code",
      "metadata": {
        "colab": {
          "base_uri": "https://localhost:8080/",
          "height": 192
        },
        "id": "qGnMKMprr4Lz",
        "outputId": "b02c249f-3f9c-46df-f9ed-3cb899982c1a"
      },
      "source": [
        "fig, axis = plt.subplots(1, 5, figsize=(15, 15))\n",
        "\n",
        "for i, ax in enumerate(axis.flat):\n",
        "    image = train_omni[random.randint(0, len(train_omni))]\n",
        "    ax.imshow(np.squeeze(np.squeeze(image[0])))\n",
        "    ax.set_title(image[1])"
      ],
      "execution_count": 98,
      "outputs": [
        {
          "output_type": "display_data",
          "data": {
            "image/png": "[encoded data removed]",
            "text/plain": [
              "<Figure size 1080x1080 with 5 Axes>"
            ]
          },
          "metadata": {
            "needs_background": "light"
          }
        }
      ]
    },
    {
      "cell_type": "markdown",
      "metadata": {
        "id": "lmG7jtgQyaNP"
      },
      "source": [
        "## Avalanche Continual Learning\n"
      ]
    },
    {
      "cell_type": "markdown",
      "metadata": {
        "id": "ZLzB9SDOymrr"
      },
      "source": [
        "## Model Config"
      ]
    },
    {
      "cell_type": "code",
      "metadata": {
        "id": "Oe5xM7EXyrtg"
      },
      "source": [
        "# Config\n",
        "device = torch.device(\"cuda:0\" if torch.cuda.is_available() else \"cpu\")\n",
        "# model\n",
        "model = SimpleMLP(num_classes=scenario.n_classes) # 964 classes "
      ],
      "execution_count": 105,
      "outputs": []
    },
    {
      "cell_type": "code",
      "metadata": {
        "colab": {
          "base_uri": "https://localhost:8080/"
        },
        "id": "mxCtxpxQnZYY",
        "outputId": "4f4367b7-f9a9-455c-ad20-ddfcd5595b07"
      },
      "source": [
        "from avalanche.models import as_multitask\n",
        "mt_model = as_multitask(model, 'classifier')\n",
        "print(mt_model)"
      ],
      "execution_count": 106,
      "outputs": [
        {
          "output_type": "stream",
          "name": "stdout",
          "text": [
            "MultiTaskDecorator(\n",
            "  (model): SimpleMLP(\n",
            "    (features): Sequential(\n",
            "      (0): Linear(in_features=784, out_features=512, bias=True)\n",
            "      (1): ReLU(inplace=True)\n",
            "      (2): Dropout(p=0.5, inplace=False)\n",
            "    )\n",
            "    (classifier): Sequential()\n",
            "  )\n",
            "  (classifier): MultiHeadClassifier(\n",
            "    (classifiers): ModuleDict(\n",
            "      (0): IncrementalClassifier(\n",
            "        (classifier): Linear(in_features=512, out_features=964, bias=True)\n",
            "      )\n",
            "    )\n",
            "  )\n",
            ")\n"
          ]
        }
      ]
    },
    {
      "cell_type": "code",
      "metadata": {
        "colab": {
          "base_uri": "https://localhost:8080/"
        },
        "id": "o6vuQkYM_9wv",
        "outputId": "31df22af-455c-40d5-cfc8-02ff273a9169"
      },
      "source": [
        "# log to Tensorboard\n",
        "tb_logger = TensorboardLogger()\n",
        "# log to text file\n",
        "text_logger = TextLogger(open('log.txt', 'a'))\n",
        "# print to stdout\n",
        "interactive_logger = InteractiveLogger()\n",
        "eval_plugin = EvaluationPlugin(\n",
        "    accuracy_metrics(minibatch=True, epoch=True, experience=True, stream=True),\n",
        "    loss_metrics(minibatch=True, epoch=True, experience=True, stream=True),\n",
        "    timing_metrics(epoch=True, epoch_running=True),\n",
        "    forgetting_metrics(experience=True, stream=True),\n",
        "    cpu_usage_metrics(experience=True),\n",
        "    confusion_matrix_metrics(num_classes=scenario.n_classes, save_image=False,\n",
        "                             stream=True),\n",
        "    disk_usage_metrics(minibatch=True, epoch=True, experience=True, stream=True),\n",
        "    loggers=[interactive_logger, text_logger, tb_logger]\n",
        ")"
      ],
      "execution_count": 107,
      "outputs": [
        {
          "output_type": "stream",
          "name": "stderr",
          "text": [
            "/usr/local/lib/python3.7/dist-packages/avalanche/training/plugins/evaluation.py:84: UserWarning: No benchmark provided to the evaluation plugin. Metrics may be computed on inconsistent portion of streams, use at your own risk.\n",
            "  \"No benchmark provided to the evaluation plugin. \"\n"
          ]
        }
      ]
    },
    {
      "cell_type": "code",
      "metadata": {
        "id": "DZbvDK7DAQqb"
      },
      "source": [
        "cl_strategy = Naive(\n",
        "    mt_model, SGD(model.parameters(), lr=0.001, momentum=0.9),\n",
        "    CrossEntropyLoss(), train_mb_size=500, train_epochs=1, eval_mb_size=100,\n",
        "    evaluator=eval_plugin)"
      ],
      "execution_count": 108,
      "outputs": []
    },
    {
      "cell_type": "code",
      "metadata": {
        "colab": {
          "base_uri": "https://localhost:8080/"
        },
        "id": "tDr15p6b_67f",
        "outputId": "7f642445-8b91-4015-f2f7-3b3bbb8a91a1"
      },
      "source": [
        "print('Starting experiment...')\n",
        "results = []\n",
        "for experience in scenario.train_stream:\n",
        "    print(\"Start of experience: \", experience.current_experience)\n",
        "    print(\"Current Classes: \", len(experience.classes_in_this_experience))\n",
        "    print('Task {} batch {} -> train'.format(experience.task_label, experience.current_experience))\n",
        "    print('This batch contains', len(experience.dataset), 'patterns')   \n",
        "\n",
        "    # train returns a dictionary which contains all the metric values  \n",
        "    res = cl_strategy.train(experience)\n",
        "    print('Training completed')\n",
        "    print('Computing accuracy on the whole test set')\n",
        "    # test also returns a dictionary which contains all the metric values\n",
        "    results.append(cl_strategy.eval(scenario.test_stream))"
      ],
      "execution_count": 109,
      "outputs": [
        {
          "output_type": "stream",
          "name": "stdout",
          "text": [
            "Starting experiment...\n",
            "Start of experience:  0\n",
            "Current Classes:  964\n",
            "Task 0 batch 0 -> train\n",
            "This batch contains 3856 patterns\n",
            "-- >> Start of training phase << --\n",
            "-- Starting training on experience 0 (Task 0) from train stream --\n",
            "100%|██████████| 8/8 [00:13<00:00,  1.65s/it]\n",
            "Epoch 0 ended.\n",
            "\tDiskUsage_Epoch/train_phase/train_stream/Task000 = 158202.2490\n",
            "\tDiskUsage_MB/train_phase/train_stream/Task000 = 158202.2490\n",
            "\tLoss_Epoch/train_phase/train_stream/Task000 = 6.9275\n",
            "\tLoss_MB/train_phase/train_stream/Task000 = 6.9321\n",
            "\tRunningTime_Epoch/train_phase/train_stream/Task000 = 0.0445\n",
            "\tTime_Epoch/train_phase/train_stream/Task000 = 11.9054\n",
            "\tTop1_Acc_Epoch/train_phase/train_stream/Task000 = 0.0018\n",
            "\tTop1_Acc_MB/train_phase/train_stream/Task000 = 0.0000\n",
            "-- >> End of training phase << --\n",
            "Training completed\n",
            "Computing accuracy on the whole test set\n",
            "-- >> Start of eval phase << --\n",
            "-- Starting eval on experience 0 (Task 0) from test stream --\n",
            "100%|██████████| 132/132 [03:01<00:00,  1.38s/it]\n",
            "> Eval on experience 0 (Task 0) from test stream ended.\n",
            "\tCPUUsage_Exp/eval_phase/test_stream/Task000/Exp000 = 99.9745\n",
            "\tDiskUsage_Exp/eval_phase/test_stream/Task000/Exp000 = 158205.7402\n",
            "\tLoss_Exp/eval_phase/test_stream/Task000/Exp000 = 6.8951\n",
            "\tTop1_Acc_Exp/eval_phase/test_stream/Task000/Exp000 = 0.0013\n",
            "-- >> End of eval phase << --\n",
            "\tConfusionMatrix_Stream/eval_phase/test_stream = \n",
            "tensor([[0, 0, 0,  ..., 0, 0, 0],\n",
            "        [0, 0, 0,  ..., 0, 0, 0],\n",
            "        [0, 0, 0,  ..., 0, 0, 0],\n",
            "        ...,\n",
            "        [0, 0, 0,  ..., 0, 0, 0],\n",
            "        [0, 0, 0,  ..., 0, 0, 0],\n",
            "        [0, 0, 0,  ..., 0, 0, 0]])\n",
            "\tDiskUsage_Stream/eval_phase/test_stream/Task000 = 158205.7402\n",
            "\tLoss_Stream/eval_phase/test_stream/Task000 = 6.8951\n",
            "\tStreamForgetting/eval_phase/test_stream = 0.0000\n",
            "\tTop1_Acc_Stream/eval_phase/test_stream/Task000 = 0.0013\n",
            "Start of experience:  1\n",
            "Current Classes:  964\n",
            "Task 0 batch 1 -> train\n",
            "This batch contains 3856 patterns\n",
            "-- >> Start of training phase << --\n",
            "-- Starting training on experience 1 (Task 0) from train stream --\n",
            "100%|██████████| 8/8 [00:13<00:00,  1.63s/it]\n",
            "Epoch 0 ended.\n",
            "\tDiskUsage_Epoch/train_phase/train_stream/Task000 = 158214.6455\n",
            "\tDiskUsage_MB/train_phase/train_stream/Task000 = 158214.6455\n",
            "\tLoss_Epoch/train_phase/train_stream/Task000 = 6.9208\n",
            "\tLoss_MB/train_phase/train_stream/Task000 = 6.9324\n",
            "\tRunningTime_Epoch/train_phase/train_stream/Task000 = 0.0453\n",
            "\tTime_Epoch/train_phase/train_stream/Task000 = 11.7782\n",
            "\tTop1_Acc_Epoch/train_phase/train_stream/Task000 = 0.0008\n",
            "\tTop1_Acc_MB/train_phase/train_stream/Task000 = 0.0000\n",
            "-- >> End of training phase << --\n",
            "Training completed\n",
            "Computing accuracy on the whole test set\n",
            "-- >> Start of eval phase << --\n",
            "-- Starting eval on experience 0 (Task 0) from test stream --\n",
            "100%|██████████| 132/132 [03:01<00:00,  1.38s/it]\n",
            "> Eval on experience 0 (Task 0) from test stream ended.\n",
            "\tCPUUsage_Exp/eval_phase/test_stream/Task000/Exp000 = 99.9622\n",
            "\tDiskUsage_Exp/eval_phase/test_stream/Task000/Exp000 = 158215.9883\n",
            "\tExperienceForgetting/eval_phase/test_stream/Task000/Exp000 = 0.0001\n",
            "\tLoss_Exp/eval_phase/test_stream/Task000/Exp000 = 6.8938\n",
            "\tTop1_Acc_Exp/eval_phase/test_stream/Task000/Exp000 = 0.0012\n",
            "-- >> End of eval phase << --\n",
            "\tConfusionMatrix_Stream/eval_phase/test_stream = \n",
            "tensor([[0, 0, 0,  ..., 0, 0, 0],\n",
            "        [0, 0, 0,  ..., 0, 0, 0],\n",
            "        [0, 0, 0,  ..., 0, 0, 0],\n",
            "        ...,\n",
            "        [0, 0, 0,  ..., 0, 0, 0],\n",
            "        [0, 0, 0,  ..., 0, 0, 0],\n",
            "        [0, 0, 0,  ..., 0, 0, 0]])\n",
            "\tDiskUsage_Stream/eval_phase/test_stream/Task000 = 158215.9883\n",
            "\tLoss_Stream/eval_phase/test_stream/Task000 = 6.8938\n",
            "\tStreamForgetting/eval_phase/test_stream = 0.0001\n",
            "\tTop1_Acc_Stream/eval_phase/test_stream/Task000 = 0.0012\n",
            "Start of experience:  2\n",
            "Current Classes:  964\n",
            "Task 0 batch 2 -> train\n",
            "This batch contains 3856 patterns\n",
            "-- >> Start of training phase << --\n",
            "-- Starting training on experience 2 (Task 0) from train stream --\n",
            "100%|██████████| 8/8 [00:13<00:00,  1.64s/it]\n",
            "Epoch 0 ended.\n",
            "\tDiskUsage_Epoch/train_phase/train_stream/Task000 = 158224.9609\n",
            "\tDiskUsage_MB/train_phase/train_stream/Task000 = 158224.9609\n",
            "\tLoss_Epoch/train_phase/train_stream/Task000 = 6.9274\n",
            "\tLoss_MB/train_phase/train_stream/Task000 = 6.9265\n",
            "\tRunningTime_Epoch/train_phase/train_stream/Task000 = 0.0461\n",
            "\tTime_Epoch/train_phase/train_stream/Task000 = 11.7928\n",
            "\tTop1_Acc_Epoch/train_phase/train_stream/Task000 = 0.0008\n",
            "\tTop1_Acc_MB/train_phase/train_stream/Task000 = 0.0028\n",
            "-- >> End of training phase << --\n",
            "Training completed\n",
            "Computing accuracy on the whole test set\n",
            "-- >> Start of eval phase << --\n",
            "-- Starting eval on experience 0 (Task 0) from test stream --\n",
            "100%|██████████| 132/132 [03:00<00:00,  1.37s/it]\n",
            "> Eval on experience 0 (Task 0) from test stream ended.\n",
            "\tCPUUsage_Exp/eval_phase/test_stream/Task000/Exp000 = 99.9388\n",
            "\tDiskUsage_Exp/eval_phase/test_stream/Task000/Exp000 = 158226.3975\n",
            "\tExperienceForgetting/eval_phase/test_stream/Task000/Exp000 = 0.0002\n",
            "\tLoss_Exp/eval_phase/test_stream/Task000/Exp000 = 6.8926\n",
            "\tTop1_Acc_Exp/eval_phase/test_stream/Task000/Exp000 = 0.0011\n",
            "-- >> End of eval phase << --\n",
            "\tConfusionMatrix_Stream/eval_phase/test_stream = \n",
            "tensor([[0, 0, 0,  ..., 0, 0, 0],\n",
            "        [0, 0, 0,  ..., 0, 0, 0],\n",
            "        [0, 0, 0,  ..., 0, 0, 0],\n",
            "        ...,\n",
            "        [0, 0, 0,  ..., 0, 0, 0],\n",
            "        [0, 0, 0,  ..., 0, 0, 0],\n",
            "        [0, 0, 0,  ..., 0, 0, 0]])\n",
            "\tDiskUsage_Stream/eval_phase/test_stream/Task000 = 158226.3975\n",
            "\tLoss_Stream/eval_phase/test_stream/Task000 = 6.8926\n",
            "\tStreamForgetting/eval_phase/test_stream = 0.0002\n",
            "\tTop1_Acc_Stream/eval_phase/test_stream/Task000 = 0.0011\n",
            "Start of experience:  3\n",
            "Current Classes:  964\n",
            "Task 0 batch 3 -> train\n",
            "This batch contains 3856 patterns\n",
            "-- >> Start of training phase << --\n",
            "-- Starting training on experience 3 (Task 0) from train stream --\n",
            "100%|██████████| 8/8 [00:12<00:00,  1.62s/it]\n",
            "Epoch 0 ended.\n",
            "\tDiskUsage_Epoch/train_phase/train_stream/Task000 = 158235.3701\n",
            "\tDiskUsage_MB/train_phase/train_stream/Task000 = 158235.3701\n",
            "\tLoss_Epoch/train_phase/train_stream/Task000 = 6.9191\n",
            "\tLoss_MB/train_phase/train_stream/Task000 = 6.9222\n",
            "\tRunningTime_Epoch/train_phase/train_stream/Task000 = 0.0423\n",
            "\tTime_Epoch/train_phase/train_stream/Task000 = 11.6740\n",
            "\tTop1_Acc_Epoch/train_phase/train_stream/Task000 = 0.0005\n",
            "\tTop1_Acc_MB/train_phase/train_stream/Task000 = 0.0028\n",
            "-- >> End of training phase << --\n",
            "Training completed\n",
            "Computing accuracy on the whole test set\n",
            "-- >> Start of eval phase << --\n",
            "-- Starting eval on experience 0 (Task 0) from test stream --\n",
            "100%|██████████| 132/132 [03:01<00:00,  1.37s/it]\n",
            "> Eval on experience 0 (Task 0) from test stream ended.\n",
            "\tCPUUsage_Exp/eval_phase/test_stream/Task000/Exp000 = 99.9350\n",
            "\tDiskUsage_Exp/eval_phase/test_stream/Task000/Exp000 = 158236.8066\n",
            "\tExperienceForgetting/eval_phase/test_stream/Task000/Exp000 = 0.0002\n",
            "\tLoss_Exp/eval_phase/test_stream/Task000/Exp000 = 6.8915\n",
            "\tTop1_Acc_Exp/eval_phase/test_stream/Task000/Exp000 = 0.0011\n",
            "-- >> End of eval phase << --\n",
            "\tConfusionMatrix_Stream/eval_phase/test_stream = \n",
            "tensor([[0, 0, 0,  ..., 0, 0, 0],\n",
            "        [0, 0, 0,  ..., 0, 0, 0],\n",
            "        [0, 0, 0,  ..., 0, 0, 0],\n",
            "        ...,\n",
            "        [0, 0, 0,  ..., 0, 0, 0],\n",
            "        [0, 0, 0,  ..., 0, 0, 0],\n",
            "        [0, 0, 0,  ..., 0, 0, 0]])\n",
            "\tDiskUsage_Stream/eval_phase/test_stream/Task000 = 158236.8066\n",
            "\tLoss_Stream/eval_phase/test_stream/Task000 = 6.8915\n",
            "\tStreamForgetting/eval_phase/test_stream = 0.0002\n",
            "\tTop1_Acc_Stream/eval_phase/test_stream/Task000 = 0.0011\n",
            "Start of experience:  4\n",
            "Current Classes:  964\n",
            "Task 0 batch 4 -> train\n",
            "This batch contains 3856 patterns\n",
            "-- >> Start of training phase << --\n",
            "-- Starting training on experience 4 (Task 0) from train stream --\n",
            "100%|██████████| 8/8 [00:13<00:00,  1.64s/it]\n",
            "Epoch 0 ended.\n",
            "\tDiskUsage_Epoch/train_phase/train_stream/Task000 = 158245.7793\n",
            "\tDiskUsage_MB/train_phase/train_stream/Task000 = 158245.7793\n",
            "\tLoss_Epoch/train_phase/train_stream/Task000 = 6.9090\n",
            "\tLoss_MB/train_phase/train_stream/Task000 = 6.9261\n",
            "\tRunningTime_Epoch/train_phase/train_stream/Task000 = 0.0436\n",
            "\tTime_Epoch/train_phase/train_stream/Task000 = 11.7902\n",
            "\tTop1_Acc_Epoch/train_phase/train_stream/Task000 = 0.0008\n",
            "\tTop1_Acc_MB/train_phase/train_stream/Task000 = 0.0000\n",
            "-- >> End of training phase << --\n",
            "Training completed\n",
            "Computing accuracy on the whole test set\n",
            "-- >> Start of eval phase << --\n",
            "-- Starting eval on experience 0 (Task 0) from test stream --\n",
            "100%|██████████| 132/132 [03:02<00:00,  1.38s/it]\n",
            "> Eval on experience 0 (Task 0) from test stream ended.\n",
            "\tCPUUsage_Exp/eval_phase/test_stream/Task000/Exp000 = 99.9592\n",
            "\tDiskUsage_Exp/eval_phase/test_stream/Task000/Exp000 = 158247.2158\n",
            "\tExperienceForgetting/eval_phase/test_stream/Task000/Exp000 = 0.0002\n",
            "\tLoss_Exp/eval_phase/test_stream/Task000/Exp000 = 6.8906\n",
            "\tTop1_Acc_Exp/eval_phase/test_stream/Task000/Exp000 = 0.0011\n",
            "-- >> End of eval phase << --\n",
            "\tConfusionMatrix_Stream/eval_phase/test_stream = \n",
            "tensor([[0, 0, 0,  ..., 0, 0, 0],\n",
            "        [0, 0, 0,  ..., 0, 0, 0],\n",
            "        [0, 0, 0,  ..., 0, 0, 0],\n",
            "        ...,\n",
            "        [0, 0, 0,  ..., 0, 0, 0],\n",
            "        [0, 0, 0,  ..., 0, 0, 0],\n",
            "        [0, 0, 0,  ..., 0, 0, 0]])\n",
            "\tDiskUsage_Stream/eval_phase/test_stream/Task000 = 158247.2158\n",
            "\tLoss_Stream/eval_phase/test_stream/Task000 = 6.8906\n",
            "\tStreamForgetting/eval_phase/test_stream = 0.0002\n",
            "\tTop1_Acc_Stream/eval_phase/test_stream/Task000 = 0.0011\n"
          ]
        }
      ]
    }
  ]
}